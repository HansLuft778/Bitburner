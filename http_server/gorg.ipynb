{
 "cells": [
  {
   "cell_type": "code",
   "execution_count": 7,
   "metadata": {},
   "outputs": [],
   "source": [
    "import torch\n",
    "import torch.nn as nn\n",
    "import torch.nn.functional as F\n",
    "import torch.optim as optim"
   ]
  },
  {
   "cell_type": "code",
   "execution_count": null,
   "metadata": {},
   "outputs": [
    {
     "data": {
      "text/plain": [
       "tensor([ 1,  2,  3,  2,  2,  3,  3,  3,  3,  4,  4,  4,  5,  5,  5,  6,  6,  6,\n",
       "         7,  7,  7,  8,  8,  8,  9,  9,  9, 10, 10, 10])"
      ]
     },
     "execution_count": 13,
     "metadata": {},
     "output_type": "execute_result"
    }
   ],
   "source": []
  },
  {
   "cell_type": "code",
   "execution_count": 10,
   "metadata": {},
   "outputs": [
    {
     "data": {
      "text/plain": [
       "array([ True,  True, False,  True,  True, False,  True, False, False,\n",
       "        True,  True,  True, False,  True, False,  True,  True,  True,\n",
       "       False,  True,  True, False, False, False,  True,  True])"
      ]
     },
     "execution_count": 10,
     "metadata": {},
     "output_type": "execute_result"
    }
   ],
   "source": [
    "data = [\n",
    "    [True, True, False, True, True],\n",
    "    [False, True, False, False, True],\n",
    "    [True, True, False, True, False],\n",
    "    [True, True, True, False, True],\n",
    "    [True, False, False, False, True],\n",
    "]\n",
    "\n",
    "import numpy as np\n",
    "\n",
    "np.append(np.array(data).flatten(), True)"
   ]
  },
  {
   "cell_type": "code",
   "execution_count": 2,
   "metadata": {},
   "outputs": [],
   "source": [
    "from agent import DQNAgent\n",
    "import asyncio\n",
    "import websockets\n",
    "import json\n",
    "\n",
    "import torch\n",
    "import torch.nn as nn\n",
    "import torch.optim as optim\n",
    "import torch.nn.functional as F\n",
    "\n",
    "from agent import DQNAgent\n",
    "import numpy as np\n",
    "\n",
    "\n"
   ]
  },
  {
   "cell_type": "code",
   "execution_count": 19,
   "metadata": {},
   "outputs": [
    {
     "name": "stdout",
     "output_type": "stream",
     "text": [
      "tensor([[ 1.0000e-08,  1.0000e-08,  1.0000e-08,  1.0000e-08,  1.0000e-08,\n",
      "          1.0000e-08,  1.0000e-08,  1.0000e-08,  1.0000e-08,  1.0000e-08,\n",
      "          1.0000e-08,  1.0000e-08,  1.0000e-08,  1.0000e-08,  1.0000e-08,\n",
      "          1.0000e-08,  1.0000e-08,  1.0000e-08,  1.0000e-08,  1.0000e-08,\n",
      "          1.0000e-08,  1.0000e-08,  1.0000e-08,  1.0000e-08,  1.0000e-08,\n",
      "         -6.6584e-02]])\n"
     ]
    },
    {
     "data": {
      "text/plain": [
       "tensor(0)"
      ]
     },
     "execution_count": 19,
     "metadata": {},
     "output_type": "execute_result"
    }
   ],
   "source": [
    "masked = torch.tensor(\n",
    "    [\n",
    "        [\n",
    "            1.0000e-08,\n",
    "            1.0000e-08,\n",
    "            1.0000e-08,\n",
    "            1.0000e-08,\n",
    "            1.0000e-08,\n",
    "            1.0000e-08,\n",
    "            1.0000e-08,\n",
    "            1.0000e-08,\n",
    "            1.0000e-08,\n",
    "            1.0000e-08,\n",
    "            1.0000e-08,\n",
    "            1.0000e-08,\n",
    "            1.0000e-08,\n",
    "            1.0000e-08,\n",
    "            1.0000e-08,\n",
    "            1.0000e-08,\n",
    "            1.0000e-08,\n",
    "            1.0000e-08,\n",
    "            1.0000e-08,\n",
    "            1.0000e-08,\n",
    "            1.0000e-08,\n",
    "            1.0000e-08,\n",
    "            1.0000e-08,\n",
    "            1.0000e-08,\n",
    "            1.0000e-08,\n",
    "            -6.6584e-02,\n",
    "        ]\n",
    "    ]\n",
    ")\n",
    "\n",
    "print(masked)\n",
    "\n",
    "masked.argmax()"
   ]
  },
  {
   "cell_type": "code",
   "execution_count": 29,
   "metadata": {},
   "outputs": [
    {
     "name": "stdout",
     "output_type": "stream",
     "text": [
      "tensor([[ 0.2232, -0.7235,  0.2286, -0.7711,  0.3015,  0.1390,  0.9150, -1.0261,\n",
      "          2.9890, -1.2376,  0.1683, -0.8119, -0.3365, -0.1047, -0.4431,  1.6885,\n",
      "          0.9360, -0.4886, -0.4614,  1.0058,  0.3598, -0.1589, -0.1577,  0.6644,\n",
      "          0.4298, -1.4695]])\n"
     ]
    },
    {
     "data": {
      "text/plain": [
       "8"
      ]
     },
     "execution_count": 29,
     "metadata": {},
     "output_type": "execute_result"
    }
   ],
   "source": [
    "a = torch.randn(1, 26)\n",
    "print(a)\n",
    "a.argmax().item()"
   ]
  }
 ],
 "metadata": {
  "kernelspec": {
   "display_name": ".venv",
   "language": "python",
   "name": "python3"
  },
  "language_info": {
   "codemirror_mode": {
    "name": "ipython",
    "version": 3
   },
   "file_extension": ".py",
   "mimetype": "text/x-python",
   "name": "python",
   "nbconvert_exporter": "python",
   "pygments_lexer": "ipython3",
   "version": "3.12.3"
  }
 },
 "nbformat": 4,
 "nbformat_minor": 2
}
