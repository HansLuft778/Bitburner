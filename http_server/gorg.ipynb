{
 "cells": [
  {
   "cell_type": "code",
   "execution_count": 51,
   "metadata": {},
   "outputs": [],
   "source": [
    "import torch\n",
    "import torch.nn as nn\n",
    "import torch.nn.functional as F\n",
    "import torch.optim as optim"
   ]
  },
  {
   "cell_type": "code",
   "execution_count": null,
   "metadata": {},
   "outputs": [],
   "source": []
  },
  {
   "cell_type": "code",
   "execution_count": 52,
   "metadata": {},
   "outputs": [
    {
     "data": {
      "text/plain": [
       "array([ True,  True, False,  True,  True, False,  True, False, False,\n",
       "        True,  True,  True, False,  True, False,  True,  True,  True,\n",
       "       False,  True,  True, False, False, False,  True,  True])"
      ]
     },
     "execution_count": 52,
     "metadata": {},
     "output_type": "execute_result"
    }
   ],
   "source": [
    "data = [\n",
    "    [True, True, False, True, True],\n",
    "    [False, True, False, False, True],\n",
    "    [True, True, False, True, False],\n",
    "    [True, True, True, False, True],\n",
    "    [True, False, False, False, True],\n",
    "]\n",
    "\n",
    "import numpy as np\n",
    "\n",
    "np.append(np.array(data).flatten(), True)"
   ]
  },
  {
   "cell_type": "code",
   "execution_count": 53,
   "metadata": {},
   "outputs": [],
   "source": [
    "from agent import DQNAgent\n",
    "import asyncio\n",
    "import websockets\n",
    "import json\n",
    "\n",
    "import torch\n",
    "import torch.nn as nn\n",
    "import torch.optim as optim\n",
    "import torch.nn.functional as F\n",
    "\n",
    "from agent import DQNAgent\n",
    "import numpy as np\n",
    "\n",
    "\n"
   ]
  },
  {
   "cell_type": "code",
   "execution_count": 54,
   "metadata": {},
   "outputs": [
    {
     "name": "stdout",
     "output_type": "stream",
     "text": [
      "tensor([[ 1.0000e-08,  1.0000e-08,  1.0000e-08,  1.0000e-08,  1.0000e-08,\n",
      "          1.0000e-08,  1.0000e-08,  1.0000e-08,  1.0000e-08,  1.0000e-08,\n",
      "          1.0000e-08,  1.0000e-08,  1.0000e-08,  1.0000e-08,  1.0000e-08,\n",
      "          1.0000e-08,  1.0000e-08,  1.0000e-08,  1.0000e-08,  1.0000e-08,\n",
      "          1.0000e-08,  1.0000e-08,  1.0000e-08,  1.0000e-08,  1.0000e-08,\n",
      "         -6.6584e-02]])\n"
     ]
    },
    {
     "data": {
      "text/plain": [
       "tensor(0)"
      ]
     },
     "execution_count": 54,
     "metadata": {},
     "output_type": "execute_result"
    }
   ],
   "source": [
    "masked = torch.tensor(\n",
    "    [\n",
    "        [\n",
    "            1.0000e-08,\n",
    "            1.0000e-08,\n",
    "            1.0000e-08,\n",
    "            1.0000e-08,\n",
    "            1.0000e-08,\n",
    "            1.0000e-08,\n",
    "            1.0000e-08,\n",
    "            1.0000e-08,\n",
    "            1.0000e-08,\n",
    "            1.0000e-08,\n",
    "            1.0000e-08,\n",
    "            1.0000e-08,\n",
    "            1.0000e-08,\n",
    "            1.0000e-08,\n",
    "            1.0000e-08,\n",
    "            1.0000e-08,\n",
    "            1.0000e-08,\n",
    "            1.0000e-08,\n",
    "            1.0000e-08,\n",
    "            1.0000e-08,\n",
    "            1.0000e-08,\n",
    "            1.0000e-08,\n",
    "            1.0000e-08,\n",
    "            1.0000e-08,\n",
    "            1.0000e-08,\n",
    "            -6.6584e-02,\n",
    "        ]\n",
    "    ]\n",
    ")\n",
    "\n",
    "print(masked)\n",
    "\n",
    "masked.argmax()"
   ]
  },
  {
   "cell_type": "code",
   "execution_count": 55,
   "metadata": {},
   "outputs": [
    {
     "name": "stdout",
     "output_type": "stream",
     "text": [
      "tensor([[-0.1640,  1.0494, -0.4872, -0.5114, -1.6136,  0.6104, -0.8561,  0.7891,\n",
      "         -0.7939, -0.5400, -1.6846,  1.2589, -1.8010,  1.9141,  1.0155, -0.7969,\n",
      "         -0.4034, -0.3652,  1.3241,  0.4193, -0.7024,  1.8763,  1.0736,  1.1222,\n",
      "          0.1502,  0.1395]])\n"
     ]
    },
    {
     "data": {
      "text/plain": [
       "13"
      ]
     },
     "execution_count": 55,
     "metadata": {},
     "output_type": "execute_result"
    }
   ],
   "source": [
    "a = torch.randn(1, 26)\n",
    "print(a)\n",
    "a.argmax().item()"
   ]
  },
  {
   "cell_type": "code",
   "execution_count": 56,
   "metadata": {},
   "outputs": [],
   "source": [
    "batch_size = 32\n",
    "channels = 1\n",
    "board_height = 5\n",
    "board_width = 5\n",
    "tensor_cnn = torch.tensor([batch_size, channels, board_height, board_width])"
   ]
  },
  {
   "cell_type": "code",
   "execution_count": 57,
   "metadata": {},
   "outputs": [
    {
     "name": "stdout",
     "output_type": "stream",
     "text": [
      "tensor([[[0., 0., 0., 0., 0.],\n",
      "         [0., 0., 0., 0., 0.],\n",
      "         [0., 0., 0., 0., 0.],\n",
      "         [0., 0., 0., 0., 0.],\n",
      "         [0., 0., 0., 0., 0.]]])\n"
     ]
    },
    {
     "data": {
      "text/plain": [
       "tensor([[[[0., 0., 0., 0., 0.],\n",
       "          [0., 0., 0., 0., 0.],\n",
       "          [0., 0., 0., 0., 0.],\n",
       "          [0., 0., 0., 0., 0.],\n",
       "          [0., 0., 0., 0., 0.]]],\n",
       "\n",
       "\n",
       "        [[[1., 1., 1., 1., 1.],\n",
       "          [1., 1., 1., 1., 1.],\n",
       "          [1., 1., 1., 1., 1.],\n",
       "          [1., 1., 1., 1., 1.],\n",
       "          [1., 1., 1., 1., 1.]]]])"
      ]
     },
     "execution_count": 57,
     "metadata": {},
     "output_type": "execute_result"
    }
   ],
   "source": [
    "a = torch.zeros([1,5,5])\n",
    "print(a)\n",
    "\n",
    "b = torch.ones([2, *a.shape])\n",
    "b[0] = a\n",
    "b"
   ]
  },
  {
   "cell_type": "code",
   "execution_count": 124,
   "metadata": {},
   "outputs": [],
   "source": [
    "def preprocess_state(board: list[str]):\n",
    "    \"\"\"\n",
    "    Convert the board (list of strings, e.g. [\"XX.O.\", ...]) into a float tensor.\n",
    "    For example:\n",
    "    'X' -> 1.0  (Black)\n",
    "    'O' -> -1.0 (White)\n",
    "    '.' -> 0.0  (Empty)\n",
    "    '#' -> 0.0  (Dead node, treat as non-playable)\n",
    "    etc.\n",
    "    ------------------------------\n",
    "    \"\"\"\n",
    "    w = 5\n",
    "    h = 5\n",
    "    new_tensor = torch.zeros([1, 1, w, h], dtype=torch.float)\n",
    "    for x in range(w):\n",
    "        for y in range(h):\n",
    "            ch = board[x][y]\n",
    "            if ch == \"X\":\n",
    "                new_tensor[0][0][x][y] = 1.0\n",
    "            elif ch == \"Y\":\n",
    "                new_tensor[0][0][x][y] = -1.0\n",
    "            else:\n",
    "                new_tensor[0][0][x][y] = 0.0\n",
    "\n",
    "    return new_tensor  # shape [1, 1, 5, 5]\n"
   ]
  },
  {
   "cell_type": "code",
   "execution_count": 125,
   "metadata": {},
   "outputs": [
    {
     "name": "stdout",
     "output_type": "stream",
     "text": [
      "154 μs ± 1.87 μs per loop (mean ± std. dev. of 7 runs, 10,000 loops each)\n"
     ]
    }
   ],
   "source": [
    "%%timeit\n",
    "preprocess_state(\n",
    "    [\n",
    "        \"#X...\",\n",
    "        \"#Y...\",\n",
    "        \"#....\",\n",
    "        \"#....\",\n",
    "        \"#....\",\n",
    "    ]\n",
    ")"
   ]
  },
  {
   "cell_type": "code",
   "execution_count": null,
   "metadata": {},
   "outputs": [],
   "source": [
    "def preprocess_state2(board_state_strs):\n",
    "    \"\"\"\n",
    "    Convert the board (list of strings, e.g. [\"XX.O.\", ...]) into a float tensor of shape [1,1,w,h].\n",
    "    'X' -> 1.0  (Black)\n",
    "    'O' -> -1.0 (White)\n",
    "    '.' -> 0.0  (Empty)\n",
    "    '#' -> 0.0  (Dead node, treat as non-playable, will be masked out later anyways)\n",
    "    \"\"\"\n",
    "\n",
    "    w, h = 5, 5\n",
    "    board_2d = []\n",
    "    for x in range(w):\n",
    "        row = []\n",
    "        for y in range(h):\n",
    "            ch = board_state_strs[x][y]\n",
    "            if ch == \"X\":\n",
    "                row.append(1.0)\n",
    "            elif ch == \"Y\":\n",
    "                row.append(-1.0)\n",
    "            else:\n",
    "                row.append(0.0)\n",
    "        board_2d.append(row)\n",
    "\n",
    "    # Convert to Tensor shape [5, 5]\n",
    "    board_tensor = torch.tensor(board_2d, dtype=torch.float)\n",
    "    # Add batch and channel dims => shape [1, 1, 5, 5]\n",
    "    board_tensor = board_tensor.unsqueeze(0).unsqueeze(0)\n",
    "\n",
    "    return board_tensor"
   ]
  },
  {
   "cell_type": "code",
   "execution_count": 129,
   "metadata": {},
   "outputs": [
    {
     "name": "stdout",
     "output_type": "stream",
     "text": [
      "[[0.0, 1.0, 0.0, 0.0, 0.0], [0.0, -1.0, 0.0, 0.0, 0.0], [0.0, 0.0, 0.0, 0.0, 0.0], [0.0, 0.0, 0.0, 0.0, 0.0], [0.0, 0.0, 0.0, 0.0, 0.0]]\n"
     ]
    },
    {
     "data": {
      "text/plain": [
       "tensor([[[[ 0.,  1.,  0.,  0.,  0.],\n",
       "          [ 0., -1.,  0.,  0.,  0.],\n",
       "          [ 0.,  0.,  0.,  0.,  0.],\n",
       "          [ 0.,  0.,  0.,  0.,  0.],\n",
       "          [ 0.,  0.,  0.,  0.,  0.]]]])"
      ]
     },
     "execution_count": 129,
     "metadata": {},
     "output_type": "execute_result"
    }
   ],
   "source": [
    "preprocess_state2(\n",
    "    [\n",
    "        \"#X...\",\n",
    "        \"#Y...\",\n",
    "        \"#....\",\n",
    "        \"#....\",\n",
    "        \"#....\",\n",
    "    ]\n",
    ")"
   ]
  },
  {
   "cell_type": "code",
   "execution_count": null,
   "metadata": {},
   "outputs": [
    {
     "ename": "TypeError",
     "evalue": "can't convert cuda:0 device type tensor to numpy. Use Tensor.cpu() to copy the tensor to host memory first.",
     "output_type": "error",
     "traceback": [
      "\u001b[1;31m---------------------------------------------------------------------------\u001b[0m",
      "\u001b[1;31mTypeError\u001b[0m                                 Traceback (most recent call last)",
      "Cell \u001b[1;32mIn[133], line 4\u001b[0m\n\u001b[0;32m      1\u001b[0m device \u001b[38;5;241m=\u001b[39m torch\u001b[38;5;241m.\u001b[39mdevice(\u001b[38;5;124m\"\u001b[39m\u001b[38;5;124mcuda\u001b[39m\u001b[38;5;124m\"\u001b[39m \u001b[38;5;28;01mif\u001b[39;00m torch\u001b[38;5;241m.\u001b[39mcuda\u001b[38;5;241m.\u001b[39mis_available() \u001b[38;5;28;01melse\u001b[39;00m \u001b[38;5;124m\"\u001b[39m\u001b[38;5;124mcpu\u001b[39m\u001b[38;5;124m\"\u001b[39m)\n\u001b[0;32m      3\u001b[0m a \u001b[38;5;241m=\u001b[39m torch\u001b[38;5;241m.\u001b[39mtensor([\u001b[38;5;241m1\u001b[39m,\u001b[38;5;241m2\u001b[39m], device\u001b[38;5;241m=\u001b[39mdevice)\n\u001b[1;32m----> 4\u001b[0m \u001b[43ma\u001b[49m\u001b[38;5;241;43m.\u001b[39;49m\u001b[43mnumpy\u001b[49m\u001b[43m(\u001b[49m\u001b[43m)\u001b[49m\n",
      "\u001b[1;31mTypeError\u001b[0m: can't convert cuda:0 device type tensor to numpy. Use Tensor.cpu() to copy the tensor to host memory first."
     ]
    }
   ],
   "source": [
    "device = torch.device(\"cuda\" if torch.cuda.is_available() else \"cpu\")\n",
    "\n",
    "a = torch.tensor([1,2], device=device)"
   ]
  },
  {
   "cell_type": "code",
   "execution_count": null,
   "metadata": {},
   "outputs": [],
   "source": [
    "\n"
   ]
  }
 ],
 "metadata": {
  "kernelspec": {
   "display_name": ".venv",
   "language": "python",
   "name": "python3"
  },
  "language_info": {
   "codemirror_mode": {
    "name": "ipython",
    "version": 3
   },
   "file_extension": ".py",
   "mimetype": "text/x-python",
   "name": "python",
   "nbconvert_exporter": "python",
   "pygments_lexer": "ipython3",
   "version": "3.12.3"
  }
 },
 "nbformat": 4,
 "nbformat_minor": 2
}
