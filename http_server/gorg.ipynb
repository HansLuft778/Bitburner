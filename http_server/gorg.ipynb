{
 "cells": [
  {
   "cell_type": "code",
   "execution_count": 27,
   "metadata": {},
   "outputs": [],
   "source": [
    "import torch\n",
    "import torch.nn as nn\n",
    "import torch.nn.functional as F\n",
    "import torch.optim as optim"
   ]
  },
  {
   "cell_type": "code",
   "execution_count": null,
   "metadata": {},
   "outputs": [],
   "source": []
  },
  {
   "cell_type": "code",
   "execution_count": 28,
   "metadata": {},
   "outputs": [
    {
     "data": {
      "text/plain": [
       "array([ True,  True, False,  True,  True, False,  True, False, False,\n",
       "        True,  True,  True, False,  True, False,  True,  True,  True,\n",
       "       False,  True,  True, False, False, False,  True,  True])"
      ]
     },
     "execution_count": 28,
     "metadata": {},
     "output_type": "execute_result"
    }
   ],
   "source": [
    "data = [\n",
    "    [True, True, False, True, True],\n",
    "    [False, True, False, False, True],\n",
    "    [True, True, False, True, False],\n",
    "    [True, True, True, False, True],\n",
    "    [True, False, False, False, True],\n",
    "]\n",
    "\n",
    "import numpy as np\n",
    "\n",
    "np.append(np.array(data).flatten(), True)"
   ]
  },
  {
   "cell_type": "code",
   "execution_count": 29,
   "metadata": {},
   "outputs": [],
   "source": [
    "from agent import DQNAgent\n",
    "import asyncio\n",
    "import websockets\n",
    "import json\n",
    "\n",
    "import torch\n",
    "import torch.nn as nn\n",
    "import torch.optim as optim\n",
    "import torch.nn.functional as F\n",
    "\n",
    "from agent import DQNAgent\n",
    "import numpy as np"
   ]
  },
  {
   "cell_type": "code",
   "execution_count": 30,
   "metadata": {},
   "outputs": [
    {
     "name": "stdout",
     "output_type": "stream",
     "text": [
      "tensor([[ 1.0000e-08,  1.0000e-08,  1.0000e-08,  1.0000e-08,  1.0000e-08,\n",
      "          1.0000e-08,  1.0000e-08,  1.0000e-08,  1.0000e-08,  1.0000e-08,\n",
      "          1.0000e-08,  1.0000e-08,  1.0000e-08,  1.0000e-08,  1.0000e-08,\n",
      "          1.0000e-08,  1.0000e-08,  1.0000e-08,  1.0000e-08,  1.0000e-08,\n",
      "          1.0000e-08,  1.0000e-08,  1.0000e-08,  1.0000e-08,  1.0000e-08,\n",
      "         -6.6584e-02]])\n"
     ]
    },
    {
     "data": {
      "text/plain": [
       "tensor(0)"
      ]
     },
     "execution_count": 30,
     "metadata": {},
     "output_type": "execute_result"
    }
   ],
   "source": [
    "masked = torch.tensor(\n",
    "    [\n",
    "        [\n",
    "            1.0000e-08,\n",
    "            1.0000e-08,\n",
    "            1.0000e-08,\n",
    "            1.0000e-08,\n",
    "            1.0000e-08,\n",
    "            1.0000e-08,\n",
    "            1.0000e-08,\n",
    "            1.0000e-08,\n",
    "            1.0000e-08,\n",
    "            1.0000e-08,\n",
    "            1.0000e-08,\n",
    "            1.0000e-08,\n",
    "            1.0000e-08,\n",
    "            1.0000e-08,\n",
    "            1.0000e-08,\n",
    "            1.0000e-08,\n",
    "            1.0000e-08,\n",
    "            1.0000e-08,\n",
    "            1.0000e-08,\n",
    "            1.0000e-08,\n",
    "            1.0000e-08,\n",
    "            1.0000e-08,\n",
    "            1.0000e-08,\n",
    "            1.0000e-08,\n",
    "            1.0000e-08,\n",
    "            -6.6584e-02,\n",
    "        ]\n",
    "    ]\n",
    ")\n",
    "\n",
    "print(masked)\n",
    "\n",
    "masked.argmax()"
   ]
  },
  {
   "cell_type": "code",
   "execution_count": 31,
   "metadata": {},
   "outputs": [
    {
     "name": "stdout",
     "output_type": "stream",
     "text": [
      "tensor([[ 2.1473, -0.7952,  0.6269,  0.4636, -0.4349, -2.0104, -2.1938, -0.6237,\n",
      "         -0.9793, -1.6824, -0.5662,  1.7478, -0.4977,  1.6509,  0.5972,  1.2256,\n",
      "          0.9230,  0.7294, -1.3154, -1.2693, -1.2122,  3.2729, -1.1598,  1.5271,\n",
      "         -1.1393,  1.3357]])\n"
     ]
    },
    {
     "data": {
      "text/plain": [
       "21"
      ]
     },
     "execution_count": 31,
     "metadata": {},
     "output_type": "execute_result"
    }
   ],
   "source": [
    "a = torch.randn(1, 26)\n",
    "print(a)\n",
    "a.argmax().item()"
   ]
  },
  {
   "cell_type": "code",
   "execution_count": 32,
   "metadata": {},
   "outputs": [],
   "source": [
    "batch_size = 32\n",
    "channels = 1\n",
    "board_height = 5\n",
    "board_width = 5\n",
    "tensor_cnn = torch.tensor([batch_size, channels, board_height, board_width])"
   ]
  },
  {
   "cell_type": "code",
   "execution_count": 33,
   "metadata": {},
   "outputs": [
    {
     "name": "stdout",
     "output_type": "stream",
     "text": [
      "tensor([[[0., 0., 0., 0., 0.],\n",
      "         [0., 0., 0., 0., 0.],\n",
      "         [0., 0., 0., 0., 0.],\n",
      "         [0., 0., 0., 0., 0.],\n",
      "         [0., 0., 0., 0., 0.]]])\n"
     ]
    },
    {
     "data": {
      "text/plain": [
       "tensor([[[[0., 0., 0., 0., 0.],\n",
       "          [0., 0., 0., 0., 0.],\n",
       "          [0., 0., 0., 0., 0.],\n",
       "          [0., 0., 0., 0., 0.],\n",
       "          [0., 0., 0., 0., 0.]]],\n",
       "\n",
       "\n",
       "        [[[1., 1., 1., 1., 1.],\n",
       "          [1., 1., 1., 1., 1.],\n",
       "          [1., 1., 1., 1., 1.],\n",
       "          [1., 1., 1., 1., 1.],\n",
       "          [1., 1., 1., 1., 1.]]]])"
      ]
     },
     "execution_count": 33,
     "metadata": {},
     "output_type": "execute_result"
    }
   ],
   "source": [
    "a = torch.zeros([1, 5, 5])\n",
    "print(a)\n",
    "\n",
    "b = torch.ones([2, *a.shape])\n",
    "b[0] = a\n",
    "b"
   ]
  },
  {
   "cell_type": "code",
   "execution_count": 34,
   "metadata": {},
   "outputs": [],
   "source": [
    "def preprocess_state(board: list[str]):\n",
    "    \"\"\"\n",
    "    Convert the board (list of strings, e.g. [\"XX.O.\", ...]) into a float tensor.\n",
    "    For example:\n",
    "    'X' -> 1.0  (Black)\n",
    "    'O' -> -1.0 (White)\n",
    "    '.' -> 0.0  (Empty)\n",
    "    '#' -> 0.0  (Dead node, treat as non-playable)\n",
    "    etc.\n",
    "    ------------------------------\n",
    "    \"\"\"\n",
    "    w = 5\n",
    "    h = 5\n",
    "    new_tensor = torch.zeros([1, 1, w, h], dtype=torch.float)\n",
    "    for x in range(w):\n",
    "        for y in range(h):\n",
    "            ch = board[x][y]\n",
    "            if ch == \"X\":\n",
    "                new_tensor[0][0][x][y] = 1.0\n",
    "            elif ch == \"Y\":\n",
    "                new_tensor[0][0][x][y] = -1.0\n",
    "            else:\n",
    "                new_tensor[0][0][x][y] = 0.0\n",
    "\n",
    "    return new_tensor  # shape [1, 1, 5, 5]"
   ]
  },
  {
   "cell_type": "code",
   "execution_count": null,
   "metadata": {},
   "outputs": [
    {
     "name": "stdout",
     "output_type": "stream",
     "text": [
      "169 μs ± 10.8 μs per loop (mean ± std. dev. of 7 runs, 10,000 loops each)\n"
     ]
    }
   ],
   "source": [
    "preprocess_state(\n",
    "    [\n",
    "        \"#X...\",\n",
    "        \"#Y...\",\n",
    "        \"#....\",\n",
    "        \"#....\",\n",
    "        \"#....\",\n",
    "    ]\n",
    ")"
   ]
  },
  {
   "cell_type": "code",
   "execution_count": 36,
   "metadata": {},
   "outputs": [],
   "source": [
    "def preprocess_state2(board_state_strs):\n",
    "    \"\"\"\n",
    "    Convert the board (list of strings, e.g. [\"XX.O.\", ...]) into a float tensor of shape [1,1,w,h].\n",
    "    'X' -> 1.0  (Black)\n",
    "    'O' -> -1.0 (White)\n",
    "    '.' -> 0.0  (Empty)\n",
    "    '#' -> 0.0  (Dead node, treat as non-playable, will be masked out later anyways)\n",
    "    \"\"\"\n",
    "\n",
    "    w, h = 5, 5\n",
    "    board_2d = []\n",
    "    for x in range(w):\n",
    "        row = []\n",
    "        for y in range(h):\n",
    "            ch = board_state_strs[x][y]\n",
    "            if ch == \"X\":\n",
    "                row.append(1.0)\n",
    "            elif ch == \"Y\":\n",
    "                row.append(-1.0)\n",
    "            else:\n",
    "                row.append(0.0)\n",
    "        board_2d.append(row)\n",
    "\n",
    "    # Convert to Tensor shape [5, 5]\n",
    "    board_tensor = torch.tensor(board_2d, dtype=torch.float)\n",
    "    # Add batch and channel dims => shape [1, 1, 5, 5]\n",
    "    board_tensor = board_tensor.unsqueeze(0).unsqueeze(0)\n",
    "\n",
    "    return board_tensor"
   ]
  },
  {
   "cell_type": "code",
   "execution_count": 37,
   "metadata": {},
   "outputs": [
    {
     "data": {
      "text/plain": [
       "tensor([[[[ 0.,  1.,  0.,  0.,  0.],\n",
       "          [ 0., -1.,  0.,  0.,  0.],\n",
       "          [ 0.,  0.,  0.,  0.,  0.],\n",
       "          [ 0.,  0.,  0.,  0.,  0.],\n",
       "          [ 0.,  0.,  0.,  0.,  0.]]]])"
      ]
     },
     "execution_count": 37,
     "metadata": {},
     "output_type": "execute_result"
    }
   ],
   "source": [
    "preprocess_state2(\n",
    "    [\n",
    "        \"#X...\",\n",
    "        \"#Y...\",\n",
    "        \"#....\",\n",
    "        \"#....\",\n",
    "        \"#....\",\n",
    "    ]\n",
    ")"
   ]
  },
  {
   "cell_type": "code",
   "execution_count": 38,
   "metadata": {},
   "outputs": [],
   "source": [
    "device = torch.device(\"cuda\" if torch.cuda.is_available() else \"cpu\")\n",
    "\n",
    "a = torch.tensor([1, 2], device=device)"
   ]
  },
  {
   "cell_type": "code",
   "execution_count": 39,
   "metadata": {},
   "outputs": [],
   "source": [
    "def preprocess_state(board_state: list[str], history: list[list[str]]):\n",
    "    \"\"\"\n",
    "    Convert the board (list of strings, e.g. [\"XX.O#\", ...]) into a float tensor of shape [1,7,w,h].\n",
    "    '#' -> 1.0  Channel 0\n",
    "    'X' -> 1.0  Black, Channel 1, 3, 5\n",
    "    'O' -> 1.0  White, Channel 2, 4, 6\n",
    "    '.' -> 0.0  (Empty)\n",
    "    \"\"\"\n",
    "    w, h = 5, 5\n",
    "\n",
    "    channels = []\n",
    "\n",
    "    # disabled channel\n",
    "    disabled_channel = torch.zeros(w, h)\n",
    "    current_black = torch.zeros(w, h)\n",
    "    current_white = torch.zeros(w, h)\n",
    "\n",
    "    for x in range(w):\n",
    "        for y in range(h):\n",
    "            ch = board_state[x][y]\n",
    "            if ch == \"X\":\n",
    "                current_black[x][y] = 1.0\n",
    "            elif ch == \"O\":\n",
    "                current_white[x][y] = 1.0\n",
    "            elif ch == \"#\":\n",
    "                disabled_channel[x][y] = 1.0\n",
    "\n",
    "    print(disabled_channel)\n",
    "    print(current_black)\n",
    "    print(current_white)\n",
    "    channels.extend([disabled_channel, current_black, current_white])\n",
    "    # board_tensor = torch.stack([disabled_channel, current_black, current_white])\n",
    "\n",
    "    for past_idx in range(2):\n",
    "        past_step = history[past_idx]\n",
    "\n",
    "        history_black = torch.zeros(w, h)\n",
    "        history_white = torch.zeros(w, h)\n",
    "        for x in range(w):\n",
    "            for y in range(h):\n",
    "                ch = past_step[x][y]\n",
    "                if ch == \"X\":\n",
    "                    history_black[x][y] = 1.0\n",
    "                elif ch == \"O\":\n",
    "                    history_white[x][y] = 1.0\n",
    "\n",
    "        # board_tensor = torch.stack([board_tensor, history_black, history_white])\n",
    "        channels.extend([history_black, history_white])\n",
    "\n",
    "    board_tensor = torch.stack(channels).unsqueeze(0)\n",
    "\n",
    "    return board_tensor"
   ]
  },
  {
   "cell_type": "code",
   "execution_count": 40,
   "metadata": {},
   "outputs": [
    {
     "name": "stdout",
     "output_type": "stream",
     "text": [
      "tensor([[0., 0., 0., 0., 0.],\n",
      "        [0., 0., 0., 0., 0.],\n",
      "        [0., 0., 0., 0., 0.],\n",
      "        [0., 0., 0., 0., 0.],\n",
      "        [0., 0., 0., 0., 0.]])\n",
      "tensor([[0., 0., 0., 0., 0.],\n",
      "        [0., 0., 1., 0., 0.],\n",
      "        [0., 0., 0., 0., 0.],\n",
      "        [0., 0., 0., 0., 0.],\n",
      "        [0., 0., 1., 0., 0.]])\n",
      "tensor([[0., 0., 0., 0., 0.],\n",
      "        [0., 0., 0., 0., 0.],\n",
      "        [0., 0., 0., 0., 0.],\n",
      "        [0., 0., 1., 1., 0.],\n",
      "        [0., 0., 0., 0., 0.]])\n"
     ]
    },
    {
     "data": {
      "text/plain": [
       "torch.Size([1, 7, 5, 5])"
      ]
     },
     "execution_count": 40,
     "metadata": {},
     "output_type": "execute_result"
    }
   ],
   "source": [
    "preprocess_state(\n",
    "    [\".....\", \"..X..\", \".....\", \"..OO.\", \"..X..\"],\n",
    "    [\n",
    "        [\".....\", \"..X..\", \".....\", \"...O.\", \"..X..\"],\n",
    "        [\".....\", \"..X..\", \".....\", \"...O.\", \".....\"],\n",
    "        [\".....\", \"..X..\", \".....\", \".....\", \".....\"],\n",
    "        [\".....\", \".....\", \".....\", \".....\", \".....\"],\n",
    "    ],\n",
    ").shape"
   ]
  },
  {
   "cell_type": "code",
   "execution_count": 49,
   "metadata": {},
   "outputs": [
    {
     "data": {
      "text/plain": [
       "'checkpoint_2025-01-21T17-11-42.pt'"
      ]
     },
     "execution_count": 49,
     "metadata": {},
     "output_type": "execute_result"
    }
   ],
   "source": [
    "import os\n",
    "import datetime\n",
    "\n",
    "\n",
    "def getCheckpointFile():\n",
    "    files = os.listdir(\"models/checkpoints/\")\n",
    "    newest_file = None\n",
    "    newest_time = None\n",
    "    for file in files:\n",
    "        if file.startswith(\"checkpoint_\") and file.endswith(\".pt\"):\n",
    "            dt_str = file.replace(\"checkpoint_\", \"\").replace(\".pt\", \"\")\n",
    "            # Convert '2025-01-21T17-08-19' -> '2025-01-21T17:08:19'\n",
    "            date_part, time_part = dt_str.split(\"T\")\n",
    "            time_part = time_part.replace(\"-\", \":\")\n",
    "            final_dt_str = date_part + \"T\" + time_part\n",
    "            dt = datetime.datetime.fromisoformat(final_dt_str)\n",
    "            if newest_time is None or dt > newest_time:\n",
    "                newest_time = dt\n",
    "                newest_file = file\n",
    "    return newest_file\n",
    "\n",
    "\n",
    "getCheckpointFile()"
   ]
  },
  {
   "cell_type": "code",
   "execution_count": 59,
   "metadata": {},
   "outputs": [],
   "source": [
    "def delete_files():\n",
    "    files = os.listdir(\"models/checkpoints/\")\n",
    "    if len(files) > 10:\n",
    "        for file in range(len(files) - 10):\n",
    "            os.remove(f\"models/checkpoints/{files[file]}\")"
   ]
  },
  {
   "cell_type": "code",
   "execution_count": 60,
   "metadata": {},
   "outputs": [],
   "source": [
    "delete_files()"
   ]
  }
 ],
 "metadata": {
  "kernelspec": {
   "display_name": ".venv",
   "language": "python",
   "name": "python3"
  },
  "language_info": {
   "codemirror_mode": {
    "name": "ipython",
    "version": 3
   },
   "file_extension": ".py",
   "mimetype": "text/x-python",
   "name": "python",
   "nbconvert_exporter": "python",
   "pygments_lexer": "ipython3",
   "version": "3.12.3"
  }
 },
 "nbformat": 4,
 "nbformat_minor": 2
}
