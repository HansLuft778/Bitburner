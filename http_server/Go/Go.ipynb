{
 "cells": [
  {
   "cell_type": "markdown",
   "metadata": {},
   "source": [
    "# union find"
   ]
  },
  {
   "cell_type": "code",
   "execution_count": null,
   "metadata": {},
   "outputs": [],
   "source": [
    "import numpy as np\n",
    "\n",
    "\n",
    "class Go:\n",
    "    def __init__(self):\n",
    "        self.parent = np.zeros(5 * 5, dtype=np.int8) # parent of each stone\n",
    "        self.stones = [set() for _ in range(5 * 5)] # set of which stones are in the same group of a root\n",
    "        self.colors = np.zeros(5 * 5, dtype=np.int8)\n",
    "        self.liberties = np.zeros(5 * 5, dtype=np.int8)\n",
    "\n",
    "        self.state = np.zeros((5, 5), dtype=np.int8)\n",
    "\n",
    "    def encode_action(self, x: int, y: int) -> int:\n",
    "        return x * 5 + y\n",
    "\n",
    "    def decode_action(self, action_idx: int):\n",
    "        x = action_idx // 5\n",
    "        y = action_idx % 5\n",
    "        return (x, y)\n",
    "\n",
    "    def find(self, i: int) -> int:\n",
    "        if self.parent[i] == i:\n",
    "            return i\n",
    "        j = self.find(self.parent[i])\n",
    "        self.parent[i] = j\n",
    "        return j\n",
    "\n",
    "    def union(self, a: tuple[int, int], b: tuple[int, int]) -> None:\n",
    "        self.parent[self.find(self.encode_action(a[0], a[1]))] = self.find(\n",
    "            self.encode_action(b[0], b[1])\n",
    "        )\n",
    "\n",
    "    def find_group_of_stone(self, x: int, y: int) -> set[tuple[int, int]]:\n",
    "        i = self.encode_action(x, y)\n",
    "        j = self.find(i)\n",
    "        return self.decode_action(j)"
   ]
  },
  {
   "cell_type": "code",
   "execution_count": null,
   "metadata": {},
   "outputs": [
    {
     "data": {
      "text/plain": [
       "(0, 0)"
      ]
     },
     "execution_count": 29,
     "metadata": {},
     "output_type": "execute_result"
    }
   ],
   "source": [
    "go = Go()\n",
    "go.find_group_of_stone(0, 0)"
   ]
  }
 ],
 "metadata": {
  "kernelspec": {
   "display_name": ".venv",
   "language": "python",
   "name": "python3"
  },
  "language_info": {
   "codemirror_mode": {
    "name": "ipython",
    "version": 3
   },
   "file_extension": ".py",
   "mimetype": "text/x-python",
   "name": "python",
   "nbconvert_exporter": "python",
   "pygments_lexer": "ipython3",
   "version": "3.13.1"
  }
 },
 "nbformat": 4,
 "nbformat_minor": 2
}
